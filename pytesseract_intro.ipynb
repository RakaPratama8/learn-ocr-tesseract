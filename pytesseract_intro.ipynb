{
 "cells": [
  {
   "cell_type": "code",
   "execution_count": 1,
   "id": "c6cc1679-7238-4ed1-a2c3-23dbe4547c3f",
   "metadata": {},
   "outputs": [],
   "source": [
    "import pytesseract\n",
    "from PIL import Image"
   ]
  },
  {
   "cell_type": "code",
   "execution_count": 2,
   "id": "24239bdf-aaff-486f-8ac4-ebea45d6816d",
   "metadata": {},
   "outputs": [],
   "source": [
    "no_noise = \"temp/no_noise.jpg\""
   ]
  },
  {
   "cell_type": "code",
   "execution_count": 3,
   "id": "bf7f3ea6-5386-4f74-9228-fd0c1a2ae40a",
   "metadata": {},
   "outputs": [],
   "source": [
    "image = Image.open(no_noise)"
   ]
  },
  {
   "cell_type": "code",
   "execution_count": null,
   "id": "de25901d-c203-4ca1-95b5-b9dc25050cb7",
   "metadata": {},
   "outputs": [],
   "source": [
    "print(pytesseract.image_to_string(image))"
   ]
  },
  {
   "cell_type": "code",
   "execution_count": null,
   "id": "51e2b8e8-6b9a-417e-9e10-b92c582c0c17",
   "metadata": {},
   "outputs": [],
   "source": []
  }
 ],
 "metadata": {
  "kernelspec": {
   "display_name": "Python 3 (ipykernel)",
   "language": "python",
   "name": "python3"
  },
  "language_info": {
   "codemirror_mode": {
    "name": "ipython",
    "version": 3
   },
   "file_extension": ".py",
   "mimetype": "text/x-python",
   "name": "python",
   "nbconvert_exporter": "python",
   "pygments_lexer": "ipython3",
   "version": "3.9.13"
  }
 },
 "nbformat": 4,
 "nbformat_minor": 5
}
