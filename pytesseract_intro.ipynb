{
 "cells": [
  {
   "cell_type": "code",
   "execution_count": 1,
   "id": "c6cc1679-7238-4ed1-a2c3-23dbe4547c3f",
   "metadata": {},
   "outputs": [],
   "source": [
    "import pytesseract\n",
    "from PIL import Image"
   ]
  },
  {
   "cell_type": "code",
   "execution_count": 2,
   "id": "24239bdf-aaff-486f-8ac4-ebea45d6816d",
   "metadata": {},
   "outputs": [],
   "source": [
    "no_noise = \"temp/no_noise.jpg\"\n",
    "eroded = \"temp/eroded_image.jpg\"\n",
    "text = \"data/text-car.jpg\""
   ]
  },
  {
   "cell_type": "code",
   "execution_count": 3,
   "id": "bf7f3ea6-5386-4f74-9228-fd0c1a2ae40a",
   "metadata": {},
   "outputs": [],
   "source": [
    "image = Image.open(no_noise)"
   ]
  },
  {
   "cell_type": "code",
   "execution_count": 4,
   "id": "de25901d-c203-4ca1-95b5-b9dc25050cb7",
   "metadata": {},
   "outputs": [
    {
     "name": "stdout",
     "output_type": "stream",
     "text": [
      "“GABRIEL Meamall\n",
      "\n",
      "On Easter movning in the year 1944, I took my six-year-old\n",
      "son by the hand and began walking fron my home town toward the\n",
      "valleys and forests of the Carpathizn mountains. For nearly\n",
      "eight months we lived in barns, attics and makeshift eabins. With\n",
      "the gene nous help of an unusually courageous man, we managed to\n",
      "survive Europe's greatest fit of madness. Those who walked in\n",
      "the opposite direction on that Easter day were lese fortunate.\n",
      "They were taken in trainloads to places whose once obscure names\n",
      "are now, and forever will be, synonymous with terror, evil and\n",
      "death. What follows is our story of survival told to the best\n",
      "of my ability, in plain, simple language.\n",
      "\n",
      "In March of 1944 the SS troops took over the internal affairs\n",
      "of Hungary and proceeded to organize the deportation of the dows.\n",
      "To the Nazie thie was a routine assignment; within hours all local\n",
      "officials were informed of operational plans. The high command\n",
      "issued a directive designed to placate Jewish fears and induce\n",
      "cooperation. It was announced that the Jews would be shipped to\n",
      "Poland as an emergency labor force and that they were only being\n",
      "drafted for temporary work. There were many who believed this\n",
      "version. Others, less credulous, resigred themselves and hoped for\n",
      "the vest. Still others began to make plans for escape. By Aprii\n",
      "13 the Hungarian Jews were being rounded up from all over the .\n",
      "country in what was once a huge brick factory. The rest is well\n",
      "known. :\n",
      "\n",
      "J was working in Ungvar and usually came home on weekends.\n",
      "\n",
      "At that time it was no longer possible for a Jew to travel freely.\n",
      "\n",
      " \n",
      "\f",
      "\n"
     ]
    }
   ],
   "source": [
    "print(pytesseract.image_to_string(image))"
   ]
  }
 ],
 "metadata": {
  "kernelspec": {
   "display_name": "Python 3 (ipykernel)",
   "language": "python",
   "name": "python3"
  },
  "language_info": {
   "codemirror_mode": {
    "name": "ipython",
    "version": 3
   },
   "file_extension": ".py",
   "mimetype": "text/x-python",
   "name": "python",
   "nbconvert_exporter": "python",
   "pygments_lexer": "ipython3",
   "version": "3.9.13"
  }
 },
 "nbformat": 4,
 "nbformat_minor": 5
}
