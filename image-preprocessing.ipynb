{
 "cells": [
  {
   "cell_type": "code",
   "execution_count": 1,
   "id": "f433f1bf-6757-4ec0-8c12-8e92d375062c",
   "metadata": {},
   "outputs": [],
   "source": [
    "import pytesseract\n",
    "from PIL import Image\n",
    "import cv2"
   ]
  },
  {
   "cell_type": "code",
   "execution_count": 2,
   "id": "c1584d31-dac7-4a10-b853-86db937ec5ee",
   "metadata": {},
   "outputs": [],
   "source": [
    "im_file = \"data/page_01.jpg\"\n",
    "im = Image.open(im_file)\n",
    "im.show()"
   ]
  },
  {
   "cell_type": "code",
   "execution_count": 2,
   "id": "85c397b4-f8b5-4411-8bee-3e890139a6a8",
   "metadata": {},
   "outputs": [],
   "source": [
    "### Working with CV Module"
   ]
  },
  {
   "cell_type": "code",
   "execution_count": null,
   "id": "773fd317-df46-4f17-9fe6-e849b8d02a1e",
   "metadata": {},
   "outputs": [],
   "source": []
  }
 ],
 "metadata": {
  "kernelspec": {
   "display_name": "Python 3 (ipykernel)",
   "language": "python",
   "name": "python3"
  },
  "language_info": {
   "codemirror_mode": {
    "name": "ipython",
    "version": 3
   },
   "file_extension": ".py",
   "mimetype": "text/x-python",
   "name": "python",
   "nbconvert_exporter": "python",
   "pygments_lexer": "ipython3",
   "version": "3.9.13"
  }
 },
 "nbformat": 4,
 "nbformat_minor": 5
}
